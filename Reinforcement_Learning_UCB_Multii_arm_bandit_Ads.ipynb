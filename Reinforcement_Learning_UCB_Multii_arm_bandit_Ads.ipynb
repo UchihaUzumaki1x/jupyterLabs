{
 "cells": [
  {
   "cell_type": "markdown",
   "metadata": {},
   "source": [
    "### UCB : Upper Confidence Bound"
   ]
  },
  {
   "cell_type": "code",
   "execution_count": 1,
   "metadata": {},
   "outputs": [],
   "source": [
    "import numpy as np\n",
    "import pandas as pd\n",
    "import matplotlib.pyplot as plt\n",
    "from math import sqrt, log"
   ]
  },
  {
   "cell_type": "code",
   "execution_count": 2,
   "metadata": {
    "scrolled": true
   },
   "outputs": [
    {
     "data": {
      "text/html": [
       "<div>\n",
       "<style scoped>\n",
       "    .dataframe tbody tr th:only-of-type {\n",
       "        vertical-align: middle;\n",
       "    }\n",
       "\n",
       "    .dataframe tbody tr th {\n",
       "        vertical-align: top;\n",
       "    }\n",
       "\n",
       "    .dataframe thead th {\n",
       "        text-align: right;\n",
       "    }\n",
       "</style>\n",
       "<table border=\"1\" class=\"dataframe\">\n",
       "  <thead>\n",
       "    <tr style=\"text-align: right;\">\n",
       "      <th></th>\n",
       "      <th>Ad 1</th>\n",
       "      <th>Ad 2</th>\n",
       "      <th>Ad 3</th>\n",
       "      <th>Ad 4</th>\n",
       "      <th>Ad 5</th>\n",
       "      <th>Ad 6</th>\n",
       "      <th>Ad 7</th>\n",
       "      <th>Ad 8</th>\n",
       "      <th>Ad 9</th>\n",
       "      <th>Ad 10</th>\n",
       "    </tr>\n",
       "  </thead>\n",
       "  <tbody>\n",
       "    <tr>\n",
       "      <th>0</th>\n",
       "      <td>1</td>\n",
       "      <td>0</td>\n",
       "      <td>0</td>\n",
       "      <td>0</td>\n",
       "      <td>1</td>\n",
       "      <td>0</td>\n",
       "      <td>0</td>\n",
       "      <td>0</td>\n",
       "      <td>1</td>\n",
       "      <td>0</td>\n",
       "    </tr>\n",
       "    <tr>\n",
       "      <th>1</th>\n",
       "      <td>0</td>\n",
       "      <td>0</td>\n",
       "      <td>0</td>\n",
       "      <td>0</td>\n",
       "      <td>0</td>\n",
       "      <td>0</td>\n",
       "      <td>0</td>\n",
       "      <td>0</td>\n",
       "      <td>1</td>\n",
       "      <td>0</td>\n",
       "    </tr>\n",
       "    <tr>\n",
       "      <th>2</th>\n",
       "      <td>0</td>\n",
       "      <td>0</td>\n",
       "      <td>0</td>\n",
       "      <td>0</td>\n",
       "      <td>0</td>\n",
       "      <td>0</td>\n",
       "      <td>0</td>\n",
       "      <td>0</td>\n",
       "      <td>0</td>\n",
       "      <td>0</td>\n",
       "    </tr>\n",
       "    <tr>\n",
       "      <th>3</th>\n",
       "      <td>0</td>\n",
       "      <td>1</td>\n",
       "      <td>0</td>\n",
       "      <td>0</td>\n",
       "      <td>0</td>\n",
       "      <td>0</td>\n",
       "      <td>0</td>\n",
       "      <td>1</td>\n",
       "      <td>0</td>\n",
       "      <td>0</td>\n",
       "    </tr>\n",
       "    <tr>\n",
       "      <th>4</th>\n",
       "      <td>0</td>\n",
       "      <td>0</td>\n",
       "      <td>0</td>\n",
       "      <td>0</td>\n",
       "      <td>0</td>\n",
       "      <td>0</td>\n",
       "      <td>0</td>\n",
       "      <td>0</td>\n",
       "      <td>0</td>\n",
       "      <td>0</td>\n",
       "    </tr>\n",
       "  </tbody>\n",
       "</table>\n",
       "</div>"
      ],
      "text/plain": [
       "   Ad 1  Ad 2  Ad 3  Ad 4  Ad 5  Ad 6  Ad 7  Ad 8  Ad 9  Ad 10\n",
       "0     1     0     0     0     1     0     0     0     1      0\n",
       "1     0     0     0     0     0     0     0     0     1      0\n",
       "2     0     0     0     0     0     0     0     0     0      0\n",
       "3     0     1     0     0     0     0     0     1     0      0\n",
       "4     0     0     0     0     0     0     0     0     0      0"
      ]
     },
     "execution_count": 2,
     "metadata": {},
     "output_type": "execute_result"
    }
   ],
   "source": [
    "data = pd.read_csv('datasets/Ads_reinforcement_ucb.csv')\n",
    "data.head()"
   ]
  },
  {
   "cell_type": "code",
   "execution_count": 3,
   "metadata": {},
   "outputs": [],
   "source": [
    "data1 = pd.read_csv('datasets/Ads_reinforcement_ucb.csv')\n",
    "data2 = pd.read_csv('datasets/Ads_reinforcement_ucb.csv')\n",
    "data3 = pd.read_csv('datasets/Ads_reinforcement_ucb.csv')\n",
    "data4 = pd.read_csv('datasets/Ads_reinforcement_ucb.csv')\n",
    "data5 = pd.read_csv('datasets/Ads_reinforcement_ucb.csv')\n",
    "data6 = pd.read_csv('datasets/Ads_reinforcement_ucb.csv')\n",
    "data7 = pd.read_csv('datasets/Ads_reinforcement_ucb.csv')\n",
    "data8 = pd.read_csv('datasets/Ads_reinforcement_ucb.csv')"
   ]
  },
  {
   "cell_type": "markdown",
   "metadata": {},
   "source": [
    "### UCB Algorithm\n",
    "<p>Here our goal is to maximize the reward</p>"
   ]
  },
  {
   "cell_type": "code",
   "execution_count": 4,
   "metadata": {},
   "outputs": [],
   "source": [
    "d = 10 # number of ads\n",
    "N = 10000 # number of users\n",
    "total_reward = 0\n",
    "number_of_selections = [0]*d\n",
    "sum_of_rewards = [0]*d\n",
    "ads_selected = [] # will show the collection of selected ads\n",
    "\n",
    "# Iterating through all the users\n",
    "for n in range(N):\n",
    "    ad = 0 # It will contain the index of the current ad\n",
    "    max_upper_bound = 0 # It will contain the max upper bound of the current ad\n",
    "    for i in range(d):\n",
    "        if(number_of_selections[i]>0):\n",
    "            average_reward = sum_of_rewards[i]/number_of_selections[i]\n",
    "            delta_i = sqrt((3/2)*(log(n+1)/number_of_selections[i]))\n",
    "            upper_bound = average_reward + delta_i\n",
    "        else:\n",
    "            upper_bound = 1e400 # creating the upper bound\n",
    "        if (upper_bound>max_upper_bound):\n",
    "            max_upper_bound = upper_bound # Assigning the UB if maX UB < UB\n",
    "            ad = i # Storing the index of the current ad\n",
    "        ads_selected.append(ad) # creating a list cotaining the sequence in which the ads are selected\n",
    "        number_of_selections[ad] += 1 # increasing the number of selection of each ad\n",
    "        reward = data1.values[n,ad] #  importing the actual reward from the dataset\n",
    "        sum_of_rewards[ad] = sum_of_rewards[ad] + reward # adding the obtained rewards of each individual ad\n",
    "        total_reward = total_reward + reward # this contains the total rewards we got from all the ads"
   ]
  },
  {
   "cell_type": "markdown",
   "metadata": {},
   "source": [
    "### Plotting the result"
   ]
  },
  {
   "cell_type": "code",
   "execution_count": 5,
   "metadata": {},
   "outputs": [
    {
     "data": {
      "text/plain": [
       "Text(0.5, 1.0, 'Histogram of selected ads with N = 10000')"
      ]
     },
     "execution_count": 5,
     "metadata": {},
     "output_type": "execute_result"
    },
    {
     "data": {
      "image/png": "[encoded data removed]",
      "text/plain": [
       "<Figure size 432x288 with 1 Axes>"
      ]
     },
     "metadata": {
      "needs_background": "light"
     },
     "output_type": "display_data"
    }
   ],
   "source": [
    "plt.hist(ads_selected, bins = 10)\n",
    "plt.title('Histogram of selected ads with N = 10000')"
   ]
  },
  {
   "cell_type": "code",
   "execution_count": 6,
   "metadata": {},
   "outputs": [
    {
     "data": {
      "text/plain": [
       "22238"
      ]
     },
     "execution_count": 6,
     "metadata": {},
     "output_type": "execute_result"
    }
   ],
   "source": [
    "total_reward"
   ]
  },
  {
   "cell_type": "code",
   "execution_count": 7,
   "metadata": {},
   "outputs": [
    {
     "data": {
      "text/plain": [
       "11028"
      ]
     },
     "execution_count": 7,
     "metadata": {},
     "output_type": "execute_result"
    },
    {
     "data": {
      "image/png": "[encoded data removed]",
      "text/plain": [
       "<Figure size 432x288 with 1 Axes>"
      ]
     },
     "metadata": {
      "needs_background": "light"
     },
     "output_type": "display_data"
    }
   ],
   "source": [
    "d = 10 # number of ads\n",
    "N = 5000 # number of users\n",
    "total_reward = 0\n",
    "number_of_selections = [0]*d\n",
    "sum_of_rewards = [0]*d\n",
    "ads_selected = [] # will show the collection of selected ads\n",
    "\n",
    "# Iterating through all the users\n",
    "for n in range(N):\n",
    "    ad = 0 # It will contain the index of the current ad\n",
    "    max_upper_bound = 0 # It will contain the max upper bound of the current ad\n",
    "    for i in range(d):\n",
    "        if(number_of_selections[i]>0):\n",
    "            average_reward = sum_of_rewards[i]/number_of_selections[i]\n",
    "            delta_i = sqrt((3/2)*(log(n+1)/number_of_selections[i]))\n",
    "            upper_bound = average_reward + delta_i\n",
    "        else:\n",
    "            upper_bound = 1e400 # creating the upper bound\n",
    "        if (upper_bound>max_upper_bound):\n",
    "            max_upper_bound = upper_bound # Assigning the UB if maX UB < UB\n",
    "            ad = i # Storing the index of the current ad\n",
    "        ads_selected.append(ad) # creating a list cotaining the sequence in which the ads are selected\n",
    "        number_of_selections[ad] += 1 # increasing the number of selection of each ad\n",
    "        reward = data2.values[n,ad] #  importing the actual reward from the dataset\n",
    "        sum_of_rewards[ad] = sum_of_rewards[ad] + reward # adding the obtained rewards of each individual ad\n",
    "        total_reward = total_reward + reward # this contains the total rewards we got from all the ads\n",
    "\n",
    "        \n",
    "plt.hist(ads_selected, bins = 10)\n",
    "plt.title('Histogram of selected ads with N = 5000')\n",
    "total_reward"
   ]
  },
  {
   "cell_type": "code",
   "execution_count": 8,
   "metadata": {
    "scrolled": true
   },
   "outputs": [
    {
     "data": {
      "text/plain": [
       "5384"
      ]
     },
     "execution_count": 8,
     "metadata": {},
     "output_type": "execute_result"
    },
    {
     "data": {
      "image/png": "[encoded data removed]",
      "text/plain": [
       "<Figure size 432x288 with 1 Axes>"
      ]
     },
     "metadata": {
      "needs_background": "light"
     },
     "output_type": "display_data"
    }
   ],
   "source": [
    "d = 10 # number of ads\n",
    "N = 2500 # number of users\n",
    "total_reward = 0\n",
    "number_of_selections = [0]*d\n",
    "sum_of_rewards = [0]*d\n",
    "ads_selected = [] # will show the collection of selected ads\n",
    "\n",
    "# Iterating through all the users\n",
    "for n in range(N):\n",
    "    ad = 0 # It will contain the index of the current ad\n",
    "    max_upper_bound = 0 # It will contain the max upper bound of the current ad\n",
    "    for i in range(d):\n",
    "        if(number_of_selections[i]>0):\n",
    "            average_reward = sum_of_rewards[i]/number_of_selections[i]\n",
    "            delta_i = sqrt((3/2)*(log(n+1)/number_of_selections[i]))\n",
    "            upper_bound = average_reward + delta_i\n",
    "        else:\n",
    "            upper_bound = 1e400 # creating the upper bound\n",
    "        if (upper_bound>max_upper_bound):\n",
    "            max_upper_bound = upper_bound # Assigning the UB if maX UB < UB\n",
    "            ad = i # Storing the index of the current ad\n",
    "        ads_selected.append(ad) # creating a list cotaining the sequence in which the ads are selected\n",
    "        number_of_selections[ad] += 1 # increasing the number of selection of each ad\n",
    "        reward = data3.values[n,ad] #  importing the actual reward from the dataset\n",
    "        sum_of_rewards[ad] = sum_of_rewards[ad] + reward # adding the obtained rewards of each individual ad\n",
    "        total_reward = total_reward + reward # this contains the total rewards we got from all the ads\n",
    "\n",
    "        \n",
    "plt.hist(ads_selected, bins = 10)\n",
    "plt.title('Histogram of selected ads with N = 2500')\n",
    "total_reward"
   ]
  },
  {
   "cell_type": "code",
   "execution_count": 9,
   "metadata": {},
   "outputs": [
    {
     "data": {
      "text/plain": [
       "2563"
      ]
     },
     "execution_count": 9,
     "metadata": {},
     "output_type": "execute_result"
    },
    {
     "data": {
      "image/png": "[encoded data removed]",
      "text/plain": [
       "<Figure size 432x288 with 1 Axes>"
      ]
     },
     "metadata": {
      "needs_background": "light"
     },
     "output_type": "display_data"
    }
   ],
   "source": [
    "d = 10 # number of ads\n",
    "N = 1250 # number of users\n",
    "total_reward = 0\n",
    "number_of_selections = [0]*d\n",
    "sum_of_rewards = [0]*d\n",
    "ads_selected = [] # will show the collection of selected ads\n",
    "\n",
    "# Iterating through all the users\n",
    "for n in range(N):\n",
    "    ad = 0 # It will contain the index of the current ad\n",
    "    max_upper_bound = 0 # It will contain the max upper bound of the current ad\n",
    "    for i in range(d):\n",
    "        if(number_of_selections[i]>0):\n",
    "            average_reward = sum_of_rewards[i]/number_of_selections[i]\n",
    "            delta_i = sqrt((3/2)*(log(n+1)/number_of_selections[i]))\n",
    "            upper_bound = average_reward + delta_i\n",
    "        else:\n",
    "            upper_bound = 1e400 # creating the upper bound\n",
    "        if (upper_bound>max_upper_bound):\n",
    "            max_upper_bound = upper_bound # Assigning the UB if maX UB < UB\n",
    "            ad = i # Storing the index of the current ad\n",
    "        ads_selected.append(ad) # creating a list cotaining the sequence in which the ads are selected\n",
    "        number_of_selections[ad] += 1 # increasing the number of selection of each ad\n",
    "        reward = data4.values[n,ad] #  importing the actual reward from the dataset\n",
    "        sum_of_rewards[ad] = sum_of_rewards[ad] + reward # adding the obtained rewards of each individual ad\n",
    "        total_reward = total_reward + reward # this contains the total rewards we got from all the ads\n",
    "\n",
    "        \n",
    "plt.hist(ads_selected, bins = 10)\n",
    "plt.title('Histogram of selected ads with N = 1250')\n",
    "total_reward"
   ]
  },
  {
   "cell_type": "code",
   "execution_count": 10,
   "metadata": {
    "scrolled": true
   },
   "outputs": [
    {
     "data": {
      "text/plain": [
       "1095"
      ]
     },
     "execution_count": 10,
     "metadata": {},
     "output_type": "execute_result"
    },
    {
     "data": {
      "image/png": "[encoded data removed]",
      "text/plain": [
       "<Figure size 432x288 with 1 Axes>"
      ]
     },
     "metadata": {
      "needs_background": "light"
     },
     "output_type": "display_data"
    }
   ],
   "source": [
    "d = 10 # number of ads\n",
    "N = 600 # number of users\n",
    "total_reward = 0\n",
    "number_of_selections = [0]*d\n",
    "sum_of_rewards = [0]*d\n",
    "ads_selected = [] # will show the collection of selected ads\n",
    "\n",
    "# Iterating through all the users\n",
    "for n in range(N):\n",
    "    ad = 0 # It will contain the index of the current ad\n",
    "    max_upper_bound = 0 # It will contain the max upper bound of the current ad\n",
    "    for i in range(d):\n",
    "        if(number_of_selections[i]>0):\n",
    "            average_reward = sum_of_rewards[i]/number_of_selections[i]\n",
    "            delta_i = sqrt((3/2)*(log(n+1)/number_of_selections[i]))\n",
    "            upper_bound = average_reward + delta_i\n",
    "        else:\n",
    "            upper_bound = 1e400 # creating the upper bound\n",
    "        if (upper_bound>max_upper_bound):\n",
    "            max_upper_bound = upper_bound # Assigning the UB if maX UB < UB\n",
    "            ad = i # Storing the index of the current ad\n",
    "        ads_selected.append(ad) # creating a list cotaining the sequence in which the ads are selected\n",
    "        number_of_selections[ad] += 1 # increasing the number of selection of each ad\n",
    "        reward = data5.values[n,ad] #  importing the actual reward from the dataset\n",
    "        sum_of_rewards[ad] = sum_of_rewards[ad] + reward # adding the obtained rewards of each individual ad\n",
    "        total_reward = total_reward + reward # this contains the total rewards we got from all the ads\n",
    "\n",
    "        \n",
    "plt.hist(ads_selected, bins = 10)\n",
    "plt.title('Histogram of selected ads with N = 600')\n",
    "total_reward"
   ]
  },
  {
   "cell_type": "code",
   "execution_count": 11,
   "metadata": {
    "scrolled": true
   },
   "outputs": [
    {
     "data": {
      "text/plain": [
       "444"
      ]
     },
     "execution_count": 11,
     "metadata": {},
     "output_type": "execute_result"
    },
    {
     "data": {
      "image/png": "[encoded data removed]",
      "text/plain": [
       "<Figure size 432x288 with 1 Axes>"
      ]
     },
     "metadata": {
      "needs_background": "light"
     },
     "output_type": "display_data"
    }
   ],
   "source": [
    "d = 10 # number of ads\n",
    "N = 300 # number of users\n",
    "total_reward = 0\n",
    "number_of_selections = [0]*d\n",
    "sum_of_rewards = [0]*d\n",
    "ads_selected = [] # will show the collection of selected ads\n",
    "\n",
    "# Iterating through all the users\n",
    "for n in range(N):\n",
    "    ad = 0 # It will contain the index of the current ad\n",
    "    max_upper_bound = 0 # It will contain the max upper bound of the current ad\n",
    "    for i in range(d):\n",
    "        if(number_of_selections[i]>0):\n",
    "            average_reward = sum_of_rewards[i]/number_of_selections[i]\n",
    "            delta_i = sqrt((3/2)*(log(n+1)/number_of_selections[i]))\n",
    "            upper_bound = average_reward + delta_i\n",
    "        else:\n",
    "            upper_bound = 1e400 # creating the upper bound\n",
    "        if (upper_bound>max_upper_bound):\n",
    "            max_upper_bound = upper_bound # Assigning the UB if maX UB < UB\n",
    "            ad = i # Storing the index of the current ad\n",
    "        ads_selected.append(ad) # creating a list cotaining the sequence in which the ads are selected\n",
    "        number_of_selections[ad] += 1 # increasing the number of selection of each ad\n",
    "        reward = data6.values[n,ad] #  importing the actual reward from the dataset\n",
    "        sum_of_rewards[ad] = sum_of_rewards[ad] + reward # adding the obtained rewards of each individual ad\n",
    "        total_reward = total_reward + reward # this contains the total rewards we got from all the ads\n",
    "\n",
    "        \n",
    "plt.hist(ads_selected, bins = 10)\n",
    "plt.title('Histogram of selected ads with N = 300')\n",
    "total_reward"
   ]
  },
  {
   "cell_type": "code",
   "execution_count": 12,
   "metadata": {
    "scrolled": false
   },
   "outputs": [
    {
     "data": {
      "text/plain": [
       "226"
      ]
     },
     "execution_count": 12,
     "metadata": {},
     "output_type": "execute_result"
    },
    {
     "data": {
      "image/png": "[encoded data removed]",
      "text/plain": [
       "<Figure size 432x288 with 1 Axes>"
      ]
     },
     "metadata": {
      "needs_background": "light"
     },
     "output_type": "display_data"
    }
   ],
   "source": [
    "d = 10 # number of ads\n",
    "N = 150 # number of users\n",
    "total_reward = 0\n",
    "number_of_selections = [0]*d\n",
    "sum_of_rewards = [0]*d\n",
    "ads_selected = [] # will show the collection of selected ads\n",
    "\n",
    "# Iterating through all the users\n",
    "for n in range(N):\n",
    "    ad = 0 # It will contain the index of the current ad\n",
    "    max_upper_bound = 0 # It will contain the max upper bound of the current ad\n",
    "    for i in range(d):\n",
    "        if(number_of_selections[i]>0):\n",
    "            average_reward = sum_of_rewards[i]/number_of_selections[i]\n",
    "            delta_i = sqrt((3/2)*(log(n+1)/number_of_selections[i]))\n",
    "            upper_bound = average_reward + delta_i\n",
    "        else:\n",
    "            upper_bound = 1e400 # creating the upper bound\n",
    "        if (upper_bound>max_upper_bound):\n",
    "            max_upper_bound = upper_bound # Assigning the UB if maX UB < UB\n",
    "            ad = i # Storing the index of the current ad\n",
    "        ads_selected.append(ad) # creating a list cotaining the sequence in which the ads are selected\n",
    "        number_of_selections[ad] += 1 # increasing the number of selection of each ad\n",
    "        reward = data7.values[n,ad] #  importing the actual reward from the dataset\n",
    "        sum_of_rewards[ad] = sum_of_rewards[ad] + reward # adding the obtained rewards of each individual ad\n",
    "        total_reward = total_reward + reward # this contains the total rewards we got from all the ads\n",
    "\n",
    "        \n",
    "plt.hist(ads_selected, bins = 10)\n",
    "plt.title('Histogram of selected ads with N = 150')\n",
    "total_reward"
   ]
  },
  {
   "cell_type": "code",
   "execution_count": 13,
   "metadata": {},
   "outputs": [
    {
     "data": {
      "text/plain": [
       "116"
      ]
     },
     "execution_count": 13,
     "metadata": {},
     "output_type": "execute_result"
    },
    {
     "data": {
      "image/png": "[encoded data removed]",
      "text/plain": [
       "<Figure size 432x288 with 1 Axes>"
      ]
     },
     "metadata": {
      "needs_background": "light"
     },
     "output_type": "display_data"
    }
   ],
   "source": [
    "d = 10 # number of ads\n",
    "N = 75 # number of users\n",
    "total_reward = 0\n",
    "number_of_selections = [0]*d\n",
    "sum_of_rewards = [0]*d\n",
    "ads_selected = [] # will show the collection of selected ads\n",
    "\n",
    "# Iterating through all the users\n",
    "for n in range(N):\n",
    "    ad = 0 # It will contain the index of the current ad\n",
    "    max_upper_bound = 0 # It will contain the max upper bound of the current ad\n",
    "    for i in range(d):\n",
    "        if(number_of_selections[i]>0):\n",
    "            average_reward = sum_of_rewards[i]/number_of_selections[i]\n",
    "            delta_i = sqrt((3/2)*(log(n+1)/number_of_selections[i]))\n",
    "            upper_bound = average_reward + delta_i\n",
    "        else:\n",
    "            upper_bound = 1e400 # creating the upper bound\n",
    "        if (upper_bound>max_upper_bound):\n",
    "            max_upper_bound = upper_bound # Assigning the UB if maX UB < UB\n",
    "            ad = i # Storing the index of the current ad\n",
    "        ads_selected.append(ad) # creating a list cotaining the sequence in which the ads are selected\n",
    "        number_of_selections[ad] += 1 # increasing the number of selection of each ad\n",
    "        reward = data8.values[n,ad] #  importing the actual reward from the dataset\n",
    "        sum_of_rewards[ad] = sum_of_rewards[ad] + reward # adding the obtained rewards of each individual ad\n",
    "        total_reward = total_reward + reward # this contains the total rewards we got from all the ads\n",
    "\n",
    "        \n",
    "plt.hist(ads_selected, bins = 10)\n",
    "plt.title('Histogram of selected ads with N = 75')\n",
    "total_reward"
   ]
  }
 ],
 "metadata": {
  "kernelspec": {
   "display_name": "Python 3",
   "language": "python",
   "name": "python3"
  },
  "language_info": {
   "codemirror_mode": {
    "name": "ipython",
    "version": 3
   },
   "file_extension": ".py",
   "mimetype": "text/x-python",
   "name": "python",
   "nbconvert_exporter": "python",
   "pygments_lexer": "ipython3",
   "version": "3.7.4"
  },
  "latex_envs": {
   "LaTeX_envs_menu_present": true,
   "autoclose": false,
   "autocomplete": true,
   "bibliofile": "biblio.bib",
   "cite_by": "apalike",
   "current_citInitial": 1,
   "eqLabelWithNumbers": true,
   "eqNumInitial": 1,
   "hotkeys": {
    "equation": "Ctrl-E",
    "itemize": "Ctrl-I"
   },
   "labels_anchors": false,
   "latex_user_defs": false,
   "report_style_numbering": false,
   "user_envs_cfg": false
  },
  "varInspector": {
   "cols": {
    "lenName": 16,
    "lenType": 16,
    "lenVar": 40
   },
   "kernels_config": {
    "python": {
     "delete_cmd_postfix": "",
     "delete_cmd_prefix": "del ",
     "library": "var_list.py",
     "varRefreshCmd": "print(var_dic_list())"
    },
    "r": {
     "delete_cmd_postfix": ") ",
     "delete_cmd_prefix": "rm(",
     "library": "var_list.r",
     "varRefreshCmd": "cat(var_dic_list()) "
    }
   },
   "types_to_exclude": [
    "module",
    "function",
    "builtin_function_or_method",
    "instance",
    "_Feature"
   ],
   "window_display": false
  }
 },
 "nbformat": 4,
 "nbformat_minor": 4
}
