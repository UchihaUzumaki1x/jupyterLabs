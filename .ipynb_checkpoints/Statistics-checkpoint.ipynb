{
 "cells": [
  {
   "cell_type": "markdown",
   "metadata": {},
   "source": [
    "## CENTRAL TENDENCY"
   ]
  },
  {
   "cell_type": "code",
   "execution_count": 6,
   "metadata": {},
   "outputs": [],
   "source": [
    "import statistics as st\n",
    "import random as rd"
   ]
  },
  {
   "cell_type": "code",
   "execution_count": 43,
   "metadata": {},
   "outputs": [
    {
     "name": "stdout",
     "output_type": "stream",
     "text": [
      "[10, 4, 0, 24, 1, 20, 27, 5, 8]\n",
      "Mean:  11\n"
     ]
    }
   ],
   "source": [
    "#Mean\n",
    "nums = rd.sample(range(30),9)\n",
    "print(nums)\n",
    "print('Mean: ',st.mean(nums))"
   ]
  },
  {
   "cell_type": "code",
   "execution_count": 44,
   "metadata": {},
   "outputs": [
    {
     "name": "stdout",
     "output_type": "stream",
     "text": [
      "Median:  8\n"
     ]
    }
   ],
   "source": [
    "#Meadian\n",
    "print('Median: ', st.median(nums))"
   ]
  },
  {
   "cell_type": "code",
   "execution_count": 31,
   "metadata": {},
   "outputs": [
    {
     "name": "stdout",
     "output_type": "stream",
     "text": [
      "Mode:  D\n"
     ]
    }
   ],
   "source": [
    "#Mode\n",
    "alps = ['A','D','X','D','D','X','Y','Z']\n",
    "print('Mode: ',st.mode(alps))"
   ]
  },
  {
   "cell_type": "markdown",
   "metadata": {},
   "source": [
    "## DISPERSION"
   ]
  },
  {
   "cell_type": "code",
   "execution_count": 45,
   "metadata": {},
   "outputs": [
    {
     "name": "stdout",
     "output_type": "stream",
     "text": [
      "[10, 4, 0, 24, 1, 20, 27, 5, 8]\n",
      "Variance:  102.75\n"
     ]
    }
   ],
   "source": [
    "#Variance\n",
    "print(nums)\n",
    "print('Variance: ', st.variance(nums))"
   ]
  },
  {
   "cell_type": "code",
   "execution_count": 47,
   "metadata": {},
   "outputs": [
    {
     "name": "stdout",
     "output_type": "stream",
     "text": [
      "St. Deviation:  10.136567466356647\n"
     ]
    }
   ],
   "source": [
    "#Standard deviation\n",
    "print('St. Deviation: ', st.stdev(nums))"
   ]
  },
  {
   "cell_type": "code",
   "execution_count": 48,
   "metadata": {},
   "outputs": [
    {
     "name": "stdout",
     "output_type": "stream",
     "text": [
      "Pop Variance:  91.33333333333333\n",
      "Pop St. Deviation:  9.556847457887633\n"
     ]
    }
   ],
   "source": [
    "#Population variance and standard deviation\n",
    "print('Pop Variance: ', st.pvariance(nums))\n",
    "print('Pop St. Deviation: ', st.pstdev(nums))"
   ]
  }
 ],
 "metadata": {
  "kernelspec": {
   "display_name": "Python 3",
   "language": "python",
   "name": "python3"
  },
  "varInspector": {
   "cols": {
    "lenName": 16,
    "lenType": 16,
    "lenVar": 40
   },
   "kernels_config": {
    "python": {
     "delete_cmd_postfix": "",
     "delete_cmd_prefix": "del ",
     "library": "var_list.py",
     "varRefreshCmd": "print(var_dic_list())"
    },
    "r": {
     "delete_cmd_postfix": ") ",
     "delete_cmd_prefix": "rm(",
     "library": "var_list.r",
     "varRefreshCmd": "cat(var_dic_list()) "
    }
   },
   "types_to_exclude": [
    "module",
    "function",
    "builtin_function_or_method",
    "instance",
    "_Feature"
   ],
   "window_display": false
  }
 },
 "nbformat": 4,
 "nbformat_minor": 4
}
